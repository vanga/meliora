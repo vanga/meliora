{
 "cells": [
  {
   "cell_type": "code",
   "execution_count": 1,
   "id": "90e4a353-8d8f-4b40-9d99-3ef6b328b9f6",
   "metadata": {},
   "outputs": [],
   "source": [
    "test_data <- read.csv(\"pd_test_data.csv\")"
   ]
  },
  {
   "cell_type": "code",
   "execution_count": 6,
   "id": "297534e8-99a9-4df7-b369-46b7094c8b63",
   "metadata": {},
   "outputs": [
    {
     "name": "stderr",
     "output_type": "stream",
     "text": [
      "Loading required package: BMA\n",
      "\n",
      "Loading required package: survival\n",
      "\n",
      "Loading required package: leaps\n",
      "\n",
      "Loading required package: robustbase\n",
      "\n",
      "\n",
      "Attaching package: 'robustbase'\n",
      "\n",
      "\n",
      "The following object is masked from 'package:survival':\n",
      "\n",
      "    heart\n",
      "\n",
      "\n",
      "Loading required package: inline\n",
      "\n",
      "Loading required package: rrcov\n",
      "\n",
      "Scalable Robust Estimators with High Breakdown Point (version 1.7-1)\n",
      "\n",
      "\n",
      "Loading required package: Biobase\n",
      "\n",
      "Loading required package: BiocGenerics\n",
      "\n",
      "\n",
      "Attaching package: 'BiocGenerics'\n",
      "\n",
      "\n",
      "The following objects are masked from 'package:stats':\n",
      "\n",
      "    IQR, mad, sd, var, xtabs\n",
      "\n",
      "\n",
      "The following objects are masked from 'package:base':\n",
      "\n",
      "    anyDuplicated, append, as.data.frame, basename, cbind, colnames,\n",
      "    dirname, do.call, duplicated, eval, evalq, Filter, Find, get, grep,\n",
      "    grepl, intersect, is.unsorted, lapply, Map, mapply, match, mget,\n",
      "    order, paste, pmax, pmax.int, pmin, pmin.int, Position, rank,\n",
      "    rbind, Reduce, rownames, sapply, setdiff, sort, table, tapply,\n",
      "    union, unique, unsplit, which.max, which.min\n",
      "\n",
      "\n",
      "Welcome to Bioconductor\n",
      "\n",
      "    Vignettes contain introductory material; view with\n",
      "    'browseVignettes()'. To cite Bioconductor, see\n",
      "    'citation(\"Biobase\")', and for packages 'citation(\"pkgname\")'.\n",
      "\n",
      "\n",
      "\n",
      "Attaching package: 'Biobase'\n",
      "\n",
      "\n",
      "The following object is masked from 'package:robustbase':\n",
      "\n",
      "    rowMedians\n",
      "\n",
      "\n"
     ]
    },
    {
     "data": {
      "text/html": [
       "0.0972700691307479"
      ],
      "text/latex": [
       "0.0972700691307479"
      ],
      "text/markdown": [
       "0.0972700691307479"
      ],
      "text/plain": [
       "[1] 0.09727007"
      ]
     },
     "metadata": {},
     "output_type": "display_data"
    }
   ],
   "source": [
    "library(iterativeBMA)\n",
    "\n",
    "brier.score(test_data$predicted_pd, test_data$default_flag)/nrow(test_data)"
   ]
  },
  {
   "cell_type": "code",
   "execution_count": 7,
   "id": "6f2dca00-bc79-4735-a169-61553754127a",
   "metadata": {},
   "outputs": [
    {
     "name": "stderr",
     "output_type": "stream",
     "text": [
      "Installing package into 'C:/Users/Watson/Documents/R/win-library/4.1'\n",
      "(as 'lib' is unspecified)\n",
      "\n",
      "also installing the dependencies 'deldir', 'png', 'jpeg', 'interp', 'MASS', 'htmlwidgets', 'rstudioapi', 'Formula', 'latticeExtra', 'cluster', 'nnet', 'foreign', 'htmlTable', 'viridis', 'Hmisc', 'monobin', 'rpart'\n",
      "\n",
      "\n"
     ]
    },
    {
     "name": "stdout",
     "output_type": "stream",
     "text": [
      "package 'deldir' successfully unpacked and MD5 sums checked\n",
      "package 'png' successfully unpacked and MD5 sums checked\n",
      "package 'jpeg' successfully unpacked and MD5 sums checked\n",
      "package 'interp' successfully unpacked and MD5 sums checked\n",
      "package 'MASS' successfully unpacked and MD5 sums checked\n",
      "package 'htmlwidgets' successfully unpacked and MD5 sums checked\n",
      "package 'rstudioapi' successfully unpacked and MD5 sums checked\n",
      "package 'Formula' successfully unpacked and MD5 sums checked\n",
      "package 'latticeExtra' successfully unpacked and MD5 sums checked\n",
      "package 'cluster' successfully unpacked and MD5 sums checked\n",
      "package 'nnet' successfully unpacked and MD5 sums checked\n",
      "package 'foreign' successfully unpacked and MD5 sums checked\n",
      "package 'htmlTable' successfully unpacked and MD5 sums checked\n",
      "package 'viridis' successfully unpacked and MD5 sums checked\n",
      "package 'Hmisc' successfully unpacked and MD5 sums checked\n",
      "package 'monobin' successfully unpacked and MD5 sums checked\n",
      "package 'rpart' successfully unpacked and MD5 sums checked\n",
      "package 'PDtoolkit' successfully unpacked and MD5 sums checked\n",
      "\n",
      "The downloaded binary packages are in\n",
      "\tC:\\Users\\Watson\\AppData\\Local\\Temp\\Rtmpc1PH1f\\downloaded_packages\n"
     ]
    }
   ],
   "source": [
    "install.packages(\"PDtoolkit\")"
   ]
  },
  {
   "cell_type": "code",
   "execution_count": 9,
   "id": "f2005ddd-4eaf-44e4-a6c3-2b65a9d28db9",
   "metadata": {},
   "outputs": [
    {
     "data": {
      "text/html": [
       "<table class=\"dataframe\">\n",
       "<caption>A data.frame: 3 × 14</caption>\n",
       "<thead>\n",
       "\t<tr><th scope=col>rating</th><th scope=col>no</th><th scope=col>nb</th><th scope=col>odr</th><th scope=col>pdc</th><th scope=col>alpha</th><th scope=col>binomial</th><th scope=col>binomial.res</th><th scope=col>jeffreys</th><th scope=col>jeffreys.res</th><th scope=col>zscore</th><th scope=col>zscore.res</th><th scope=col>hosmer.lemeshow</th><th scope=col>hosmer.lemeshow.res</th></tr>\n",
       "\t<tr><th scope=col>&lt;chr&gt;</th><th scope=col>&lt;int&gt;</th><th scope=col>&lt;int&gt;</th><th scope=col>&lt;dbl&gt;</th><th scope=col>&lt;dbl&gt;</th><th scope=col>&lt;dbl&gt;</th><th scope=col>&lt;dbl&gt;</th><th scope=col>&lt;chr&gt;</th><th scope=col>&lt;dbl&gt;</th><th scope=col>&lt;chr&gt;</th><th scope=col>&lt;dbl&gt;</th><th scope=col>&lt;chr&gt;</th><th scope=col>&lt;dbl&gt;</th><th scope=col>&lt;chr&gt;</th></tr>\n",
       "</thead>\n",
       "<tbody>\n",
       "\t<tr><td>A</td><td>382</td><td>33</td><td>0.08638743</td><td>0.10</td><td>0.05</td><td>0.8343581</td><td>H0: ODR &lt;= PDC</td><td>0.8112067</td><td>H0: ODR &lt;= PDC</td><td>0.8124203</td><td>H0: ODR &lt;= PDC</td><td>0.7987413</td><td>H0: ODR &lt;= PDC</td></tr>\n",
       "\t<tr><td>B</td><td>515</td><td>81</td><td>0.15728155</td><td>0.15</td><td>0.05</td><td>0.3397752</td><td>H0: ODR &lt;= PDC</td><td>0.3177451</td><td>H0: ODR &lt;= PDC</td><td>0.3217618</td><td>H0: ODR &lt;= PDC</td><td>0.7987413</td><td>H0: ODR &lt;= PDC</td></tr>\n",
       "\t<tr><td>C</td><td>103</td><td>21</td><td>0.20388350</td><td>0.20</td><td>0.05</td><td>0.4999238</td><td>H0: ODR &lt;= PDC</td><td>0.4510711</td><td>H0: ODR &lt;= PDC</td><td>0.4607546</td><td>H0: ODR &lt;= PDC</td><td>0.7987413</td><td>H0: ODR &lt;= PDC</td></tr>\n",
       "</tbody>\n",
       "</table>\n"
      ],
      "text/latex": [
       "A data.frame: 3 × 14\n",
       "\\begin{tabular}{llllllllllllll}\n",
       " rating & no & nb & odr & pdc & alpha & binomial & binomial.res & jeffreys & jeffreys.res & zscore & zscore.res & hosmer.lemeshow & hosmer.lemeshow.res\\\\\n",
       " <chr> & <int> & <int> & <dbl> & <dbl> & <dbl> & <dbl> & <chr> & <dbl> & <chr> & <dbl> & <chr> & <dbl> & <chr>\\\\\n",
       "\\hline\n",
       "\t A & 382 & 33 & 0.08638743 & 0.10 & 0.05 & 0.8343581 & H0: ODR <= PDC & 0.8112067 & H0: ODR <= PDC & 0.8124203 & H0: ODR <= PDC & 0.7987413 & H0: ODR <= PDC\\\\\n",
       "\t B & 515 & 81 & 0.15728155 & 0.15 & 0.05 & 0.3397752 & H0: ODR <= PDC & 0.3177451 & H0: ODR <= PDC & 0.3217618 & H0: ODR <= PDC & 0.7987413 & H0: ODR <= PDC\\\\\n",
       "\t C & 103 & 21 & 0.20388350 & 0.20 & 0.05 & 0.4999238 & H0: ODR <= PDC & 0.4510711 & H0: ODR <= PDC & 0.4607546 & H0: ODR <= PDC & 0.7987413 & H0: ODR <= PDC\\\\\n",
       "\\end{tabular}\n"
      ],
      "text/markdown": [
       "\n",
       "A data.frame: 3 × 14\n",
       "\n",
       "| rating &lt;chr&gt; | no &lt;int&gt; | nb &lt;int&gt; | odr &lt;dbl&gt; | pdc &lt;dbl&gt; | alpha &lt;dbl&gt; | binomial &lt;dbl&gt; | binomial.res &lt;chr&gt; | jeffreys &lt;dbl&gt; | jeffreys.res &lt;chr&gt; | zscore &lt;dbl&gt; | zscore.res &lt;chr&gt; | hosmer.lemeshow &lt;dbl&gt; | hosmer.lemeshow.res &lt;chr&gt; |\n",
       "|---|---|---|---|---|---|---|---|---|---|---|---|---|---|\n",
       "| A | 382 | 33 | 0.08638743 | 0.10 | 0.05 | 0.8343581 | H0: ODR &lt;= PDC | 0.8112067 | H0: ODR &lt;= PDC | 0.8124203 | H0: ODR &lt;= PDC | 0.7987413 | H0: ODR &lt;= PDC |\n",
       "| B | 515 | 81 | 0.15728155 | 0.15 | 0.05 | 0.3397752 | H0: ODR &lt;= PDC | 0.3177451 | H0: ODR &lt;= PDC | 0.3217618 | H0: ODR &lt;= PDC | 0.7987413 | H0: ODR &lt;= PDC |\n",
       "| C | 103 | 21 | 0.20388350 | 0.20 | 0.05 | 0.4999238 | H0: ODR &lt;= PDC | 0.4510711 | H0: ODR &lt;= PDC | 0.4607546 | H0: ODR &lt;= PDC | 0.7987413 | H0: ODR &lt;= PDC |\n",
       "\n"
      ],
      "text/plain": [
       "  rating no  nb odr        pdc  alpha binomial  binomial.res   jeffreys \n",
       "1 A      382 33 0.08638743 0.10 0.05  0.8343581 H0: ODR <= PDC 0.8112067\n",
       "2 B      515 81 0.15728155 0.15 0.05  0.3397752 H0: ODR <= PDC 0.3177451\n",
       "3 C      103 21 0.20388350 0.20 0.05  0.4999238 H0: ODR <= PDC 0.4510711\n",
       "  jeffreys.res   zscore    zscore.res     hosmer.lemeshow hosmer.lemeshow.res\n",
       "1 H0: ODR <= PDC 0.8124203 H0: ODR <= PDC 0.7987413       H0: ODR <= PDC     \n",
       "2 H0: ODR <= PDC 0.3217618 H0: ODR <= PDC 0.7987413       H0: ODR <= PDC     \n",
       "3 H0: ODR <= PDC 0.4607546 H0: ODR <= PDC 0.7987413       H0: ODR <= PDC     "
      ]
     },
     "metadata": {},
     "output_type": "display_data"
    }
   ],
   "source": [
    "library(PDtoolkit)\n",
    "\n",
    "test_agg <- read.csv(\"pd_test_agg.csv\")\n",
    "pp.testing(rating.label = test_agg$ratings,\n",
    "           pdc = test_agg$PD,\n",
    "           no = test_agg$N,\n",
    "           nb = test_agg$D, \n",
    "           alpha = 0.05)"
   ]
  },
  {
   "cell_type": "code",
   "execution_count": null,
   "id": "00f0b16e-c94e-4433-a4e3-e73265140115",
   "metadata": {},
   "outputs": [],
   "source": []
  },
  {
   "cell_type": "code",
   "execution_count": 10,
   "id": "6406f8df-ca63-470b-839b-dec9f67fdba0",
   "metadata": {},
   "outputs": [
    {
     "name": "stderr",
     "output_type": "stream",
     "text": [
      "Installing package into 'C:/Users/Watson/Documents/R/win-library/4.1'\n",
      "(as 'lib' is unspecified)\n",
      "\n"
     ]
    },
    {
     "name": "stdout",
     "output_type": "stream",
     "text": [
      "package 'remotes' successfully unpacked and MD5 sums checked\n",
      "\n",
      "The downloaded binary packages are in\n",
      "\tC:\\Users\\Watson\\AppData\\Local\\Temp\\Rtmpc1PH1f\\downloaded_packages\n"
     ]
    },
    {
     "name": "stderr",
     "output_type": "stream",
     "text": [
      "Downloading GitHub repo ayhandis/creditR@HEAD\n",
      "\n"
     ]
    },
    {
     "name": "stdout",
     "output_type": "stream",
     "text": [
      "bitops     (NA    -> 1.0-7  ) [CRAN]\n",
      "KernSmooth (NA    -> 2.23-20) [CRAN]\n",
      "caTools    (NA    -> 1.18.2 ) [CRAN]\n",
      "gtools     (NA    -> 3.9.3  ) [CRAN]\n",
      "gplots     (NA    -> 3.1.3  ) [CRAN]\n",
      "ROCR       (NA    -> 1.0-11 ) [CRAN]\n",
      "MLmetrics  (NA    -> 1.1.1  ) [CRAN]\n",
      "woeBinning (NA    -> 0.1.6  ) [CRAN]\n",
      "magrittr   (2.0.1 -> 2.0.3  ) [CRAN]\n"
     ]
    },
    {
     "name": "stderr",
     "output_type": "stream",
     "text": [
      "Installing 9 packages: bitops, KernSmooth, caTools, gtools, gplots, ROCR, MLmetrics, woeBinning, magrittr\n",
      "\n",
      "Installing packages into 'C:/Users/Watson/Documents/R/win-library/4.1'\n",
      "(as 'lib' is unspecified)\n",
      "\n"
     ]
    },
    {
     "name": "stdout",
     "output_type": "stream",
     "text": [
      "package 'bitops' successfully unpacked and MD5 sums checked\n",
      "package 'KernSmooth' successfully unpacked and MD5 sums checked\n",
      "package 'caTools' successfully unpacked and MD5 sums checked\n",
      "package 'gtools' successfully unpacked and MD5 sums checked\n",
      "package 'gplots' successfully unpacked and MD5 sums checked\n",
      "package 'ROCR' successfully unpacked and MD5 sums checked\n",
      "package 'MLmetrics' successfully unpacked and MD5 sums checked\n",
      "package 'woeBinning' successfully unpacked and MD5 sums checked\n",
      "package 'magrittr' successfully unpacked and MD5 sums checked\n"
     ]
    },
    {
     "name": "stderr",
     "output_type": "stream",
     "text": [
      "Warning message:\n",
      "\"cannot remove prior installation of package 'magrittr'\"\n",
      "Warning message in file.copy(savedcopy, lib, recursive = TRUE):\n",
      "\"problem copying C:\\Users\\Watson\\Documents\\R\\win-library\\4.1\\00LOCK\\magrittr\\libs\\x64\\magrittr.dll to C:\\Users\\Watson\\Documents\\R\\win-library\\4.1\\magrittr\\libs\\x64\\magrittr.dll: Permission denied\"\n",
      "Warning message:\n",
      "\"restored 'magrittr'\"\n"
     ]
    },
    {
     "name": "stdout",
     "output_type": "stream",
     "text": [
      "\n",
      "The downloaded binary packages are in\n",
      "\tC:\\Users\\Watson\\AppData\\Local\\Temp\\Rtmpc1PH1f\\downloaded_packages\n",
      "\u001b[32mv\u001b[39m  \u001b[90mchecking for file 'C:\\Users\\Watson\\AppData\\Local\\Temp\\Rtmpc1PH1f\\remotes2264444dde8\\ayhandis-creditR-9c7d330/DESCRIPTION'\u001b[39m\u001b[36m\u001b[39m\n",
      "\u001b[90m-\u001b[39m\u001b[90m  \u001b[39m\u001b[90mpreparing 'creditR':\u001b[39m\u001b[36m\u001b[36m (406ms)\u001b[36m\u001b[39m\n",
      "\u001b[32mv\u001b[39m  \u001b[90mchecking DESCRIPTION meta-information\u001b[39m\u001b[36m\u001b[39m\n",
      "\u001b[90m-\u001b[39m\u001b[90m  \u001b[39m\u001b[90mchecking for LF line-endings in source and make files and shell scripts\u001b[39m\u001b[36m\u001b[39m\n",
      "\u001b[90m-\u001b[39m\u001b[90m  \u001b[39m\u001b[90mchecking for empty or unneeded directories\u001b[39m\u001b[36m\u001b[39m\n",
      "   Omitted 'LazyData' from DESCRIPTION\n",
      "\u001b[90m-\u001b[39m\u001b[90m  \u001b[39m\u001b[90mbuilding 'creditR_0.1.0.tar.gz'\u001b[39m\u001b[36m\u001b[39m\n",
      "   \n",
      "\r"
     ]
    },
    {
     "name": "stderr",
     "output_type": "stream",
     "text": [
      "Installing package into 'C:/Users/Watson/Documents/R/win-library/4.1'\n",
      "(as 'lib' is unspecified)\n",
      "\n"
     ]
    }
   ],
   "source": [
    "install.packages(\"remotes\")\n",
    "remotes::install_github(\"ayhandis/creditR\")"
   ]
  },
  {
   "cell_type": "code",
   "execution_count": 11,
   "id": "d829b2cf-ed9a-48ee-bed0-4faa99c774a5",
   "metadata": {},
   "outputs": [
    {
     "name": "stderr",
     "output_type": "stream",
     "text": [
      "Loading required package: magrittr\n",
      "\n",
      "Loading required package: woeBinning\n",
      "\n",
      "Loading required package: cluster\n",
      "\n",
      "Loading required package: MLmetrics\n",
      "\n",
      "\n",
      "Attaching package: 'MLmetrics'\n",
      "\n",
      "\n",
      "The following object is masked from 'package:base':\n",
      "\n",
      "    Recall\n",
      "\n",
      "\n",
      "\n",
      "Attaching package: 'creditR'\n",
      "\n",
      "\n",
      "The following object is masked from 'package:PDtoolkit':\n",
      "\n",
      "    scaled.score\n",
      "\n",
      "\n"
     ]
    },
    {
     "name": "stdout",
     "output_type": "stream",
     "text": [
      "       Final.PD.Range Total.Observations Total.Distr Good.Count Bad.Count\n",
      "1  <= 0.0001614740971                 25        2.5%         20         5\n",
      "2     <= 0.0383381406                 75        7.5%         69         6\n",
      "3    <= 0.04370753681                 25        2.5%         21         4\n",
      "4    <= 0.04913624977                 25        2.5%         23         2\n",
      "5    <= 0.05854416783                 50        5.0%         47         3\n",
      "6    <= 0.06242014789                 25        2.5%         21         4\n",
      "7    <= 0.06645733297                 25        2.5%         20         5\n",
      "8    <= 0.07375163657                 50        5.0%         45         5\n",
      "9    <= 0.08079731541                 50        5.0%         48         2\n",
      "10   <= 0.08375035232                 25        2.5%         21         4\n",
      "11   <= 0.08799747431                 25        2.5%         23         2\n",
      "12   <= 0.09736922493                 75        7.5%         66         9\n",
      "13    <= 0.1000496439                 25        2.5%         23         2\n",
      "14    <= 0.1030358042                 25        2.5%         22         3\n",
      "15    <= 0.1102836249                 50        5.0%         47         3\n",
      "16    <= 0.1130352581                 25        2.5%         21         4\n",
      "17    <= 0.1237137632                 75        7.5%         69         6\n",
      "18    <= 0.1273330396                 25        2.5%         21         4\n",
      "19    <= 0.1305964101                 25        2.5%         22         3\n",
      "20     <= 0.135118985                 25        2.5%         20         5\n",
      "21    <= 0.1381371531                 25        2.5%         22         3\n",
      "22    <= 0.1629165138                125       12.5%        115        10\n",
      "23    <= 0.1692522175                 25        2.5%         21         4\n",
      "24    <= 0.1798881853                 25        2.5%         23         2\n",
      "25             <= Inf                 50        5.0%         44         6\n",
      "   Good.Distr Bad.Distr Bad.Rate      PD     Score SumTotal concentration\n",
      "1        2.2%      4.7%    20.0% 0.00000      -Inf     1000         0.025\n",
      "2        7.7%      5.7%     8.0% 0.02406 -3.702850     1000         0.075\n",
      "3        2.3%      3.8%    16.0% 0.04053 -3.164339     1000         0.025\n",
      "4        2.6%      1.9%     8.0% 0.04621 -3.027247     1000         0.025\n",
      "5        5.3%      2.8%     6.0% 0.05376 -2.867967     1000         0.050\n",
      "6        2.3%      3.8%    16.0% 0.06094 -2.734990     1000         0.025\n",
      "7        2.2%      4.7%    20.0% 0.06465 -2.671933     1000         0.025\n",
      "8        5.0%      4.7%    10.0% 0.06996 -2.587304     1000         0.050\n",
      "9        5.4%      1.9%     4.0% 0.07721 -2.480873     1000         0.050\n",
      "10       2.3%      3.8%    16.0% 0.08242 -2.409912     1000         0.025\n",
      "11       2.6%      1.9%     8.0% 0.08577 -2.366413     1000         0.025\n",
      "12       7.4%      8.5%    12.0% 0.09258 -2.282532     1000         0.075\n",
      "13       2.6%      1.9%     8.0% 0.09869 -2.211866     1000         0.025\n",
      "14       2.5%      2.8%    12.0% 0.10165 -2.179024     1000         0.025\n",
      "15       5.3%      2.8%     6.0% 0.10617 -2.130474     1000         0.050\n",
      "16       2.3%      3.8%    16.0% 0.11154 -2.075106     1000         0.025\n",
      "17       7.7%      5.7%     8.0% 0.11788 -2.012661     1000         0.075\n",
      "18       2.3%      3.8%    16.0% 0.12572 -1.939343     1000         0.025\n",
      "19       2.5%      2.8%    12.0% 0.12917 -1.908317     1000         0.025\n",
      "20       2.2%      4.7%    20.0% 0.13251 -1.878946     1000         0.025\n",
      "21       2.5%      2.8%    12.0% 0.13675 -1.842550     1000         0.025\n",
      "22      12.9%      9.4%     8.0% 0.14999 -1.734679     1000         0.125\n",
      "23       2.3%      3.8%    16.0% 0.16602 -1.614101     1000         0.025\n",
      "24       2.6%      1.9%     8.0% 0.17508 -1.550043     1000         0.025\n",
      "25       4.9%      5.7%    12.0% 0.20082 -1.381177     1000         0.050\n",
      "        HHI\n",
      "1  0.000625\n",
      "2  0.005625\n",
      "3  0.000625\n",
      "4  0.000625\n",
      "5  0.002500\n",
      "6  0.000625\n",
      "7  0.000625\n",
      "8  0.002500\n",
      "9  0.002500\n",
      "10 0.000625\n",
      "11 0.000625\n",
      "12 0.005625\n",
      "13 0.000625\n",
      "14 0.000625\n",
      "15 0.002500\n",
      "16 0.000625\n",
      "17 0.005625\n",
      "18 0.000625\n",
      "19 0.000625\n",
      "20 0.000625\n",
      "21 0.000625\n",
      "22 0.015625\n",
      "23 0.000625\n",
      "24 0.000625\n",
      "25 0.002500\n"
     ]
    },
    {
     "data": {
      "text/html": [
       "0.055"
      ],
      "text/latex": [
       "0.055"
      ],
      "text/markdown": [
       "0.055"
      ],
      "text/plain": [
       "[1] 0.055"
      ]
     },
     "metadata": {},
     "output_type": "display_data"
    }
   ],
   "source": [
    "library(creditR)\n",
    "\n",
    "df <- master.scale(test_data, \"default_flag\", \"predicted_pd\")\n",
    "h <- Herfindahl.Hirschman.Index(df, \"Total.Observations\")\n",
    "h"
   ]
  },
  {
   "cell_type": "code",
   "execution_count": null,
   "id": "73531531-b02c-4e93-a35c-fc04391bdcc7",
   "metadata": {},
   "outputs": [],
   "source": []
  },
  {
   "cell_type": "code",
   "execution_count": null,
   "id": "bdec30bb-a890-4b69-ac2b-8c5acd367ecb",
   "metadata": {},
   "outputs": [],
   "source": [
    "\n",
    "\n",
    "test_data <- read.csv(\"pd_test_data.csv\")\n",
    "\n",
    "\n",
    "###############################################\n",
    "\n",
    "# to install iterativeBMA package:\n",
    "#if (!requireNamespace(\"BiocManager\", quietly = TRUE))\n",
    "#  install.packages(\"BiocManager\")\n",
    "#BiocManager::install(\"iterativeBMA\")\n",
    "\n",
    "library(iterativeBMA)\n",
    "\n",
    "brier.score(test_data$predicted_pd, test_data$default_flag)/nrow(test_data)\n",
    "\n",
    "# Agrees with Meliora (other than defining Brier score as sum rather than avg)\n",
    "\n",
    "############\n",
    "\n",
    "#install.packages(\"PDtoolkit\")\n",
    "\n",
    "library(PDtoolkit)\n",
    "\n",
    "test_agg <- read.csv(\"pd_test_agg.csv\")\n",
    "pp.testing(rating.label = test_agg$ratings,\n",
    "           pdc = test_agg$PD,\n",
    "           no = test_agg$N,\n",
    "           nb = test_agg$D, \n",
    "           alpha = 0.05)\n",
    "\n",
    "# Jeffrey's and Binomial both agree with Meliora.\n",
    "# Hosmer-Lemeshow differs only because the author computes a chi-squared cdf with\n",
    "# k degrees of freedom rather than k-2 which is what our source says to use.\n",
    "# (See hl.test at https://github.com/andrija-djurovic/PDtoolkit/blob/main/R/12_PREDICTIVE_POWER.R)\n",
    "\n",
    "##########\n",
    "\n",
    "# install.packages(\"remotes\")\n",
    "# remotes::install_github(\"ayhandis/creditR\")\n",
    "\n",
    "library(creditR)\n",
    "\n",
    "df <- master.scale(test_data, \"default_flag\", \"predicted_pd\")\n",
    "h <- Herfindahl.Hirschman.Index(df, \"Total.Observations\")\n",
    "h\n",
    "\n",
    "# Herfindahl index agrees, but I was unable to find any available Herfindahl TEST to compare with\n",
    "\n",
    "##########\n",
    "\n",
    "# There doesn't appear to be an R implementation of the Spiegelhalter test.\n",
    "# The SAS implementation seems to be very limited in its scope: it doesn't let you\n",
    "# specify the hypothesized success probabilities as far as I can tell.\n",
    "\n"
   ]
  }
 ],
 "metadata": {
  "kernelspec": {
   "display_name": "R",
   "language": "R",
   "name": "ir"
  },
  "language_info": {
   "codemirror_mode": "r",
   "file_extension": ".r",
   "mimetype": "text/x-r-source",
   "name": "R",
   "pygments_lexer": "r",
   "version": "4.1.3"
  }
 },
 "nbformat": 4,
 "nbformat_minor": 5
}
