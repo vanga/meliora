{
 "cells": [
  {
   "cell_type": "markdown",
   "metadata": {},
   "source": [
    "## Examples of usage"
   ]
  },
  {
   "cell_type": "code",
   "execution_count": 1,
   "metadata": {},
   "outputs": [],
   "source": [
    "import numpy as np\n",
    "import random\n",
    "import pandas as pd\n",
    "import meliora.meliora.val_tests as vt"
   ]
  },
  {
   "cell_type": "code",
   "execution_count": 2,
   "metadata": {},
   "outputs": [],
   "source": [
    "# Import data\n",
    "test_data_main = pd.read_csv('pd_test_data_main.csv')\n",
    "test_data_add = pd.read_csv('pd_test_data_period_2.csv')"
   ]
  },
  {
   "cell_type": "code",
   "execution_count": 3,
   "metadata": {},
   "outputs": [
    {
     "data": {
      "text/html": [
       "<div>\n",
       "<style scoped>\n",
       "    .dataframe tbody tr th:only-of-type {\n",
       "        vertical-align: middle;\n",
       "    }\n",
       "\n",
       "    .dataframe tbody tr th {\n",
       "        vertical-align: top;\n",
       "    }\n",
       "\n",
       "    .dataframe thead th {\n",
       "        text-align: right;\n",
       "    }\n",
       "</style>\n",
       "<table border=\"1\" class=\"dataframe\">\n",
       "  <thead>\n",
       "    <tr style=\"text-align: right;\">\n",
       "      <th></th>\n",
       "      <th>Rating class</th>\n",
       "      <th>Predicted PD</th>\n",
       "      <th>Total count</th>\n",
       "      <th>Defaults</th>\n",
       "      <th>Actual Default Rate</th>\n",
       "      <th>p_value</th>\n",
       "      <th>Reject H0</th>\n",
       "    </tr>\n",
       "  </thead>\n",
       "  <tbody>\n",
       "    <tr>\n",
       "      <th>0</th>\n",
       "      <td>A</td>\n",
       "      <td>0.103429</td>\n",
       "      <td>406</td>\n",
       "      <td>55</td>\n",
       "      <td>0.135468</td>\n",
       "      <td>0.023892</td>\n",
       "      <td>True</td>\n",
       "    </tr>\n",
       "    <tr>\n",
       "      <th>1</th>\n",
       "      <td>B</td>\n",
       "      <td>0.099524</td>\n",
       "      <td>480</td>\n",
       "      <td>41</td>\n",
       "      <td>0.085417</td>\n",
       "      <td>0.867441</td>\n",
       "      <td>False</td>\n",
       "    </tr>\n",
       "    <tr>\n",
       "      <th>2</th>\n",
       "      <td>C</td>\n",
       "      <td>0.095719</td>\n",
       "      <td>114</td>\n",
       "      <td>10</td>\n",
       "      <td>0.087719</td>\n",
       "      <td>0.660553</td>\n",
       "      <td>False</td>\n",
       "    </tr>\n",
       "  </tbody>\n",
       "</table>\n",
       "</div>"
      ],
      "text/plain": [
       "  Rating class  Predicted PD  Total count  Defaults  Actual Default Rate  \\\n",
       "0            A      0.103429          406        55             0.135468   \n",
       "1            B      0.099524          480        41             0.085417   \n",
       "2            C      0.095719          114        10             0.087719   \n",
       "\n",
       "    p_value  Reject H0  \n",
       "0  0.023892       True  \n",
       "1  0.867441      False  \n",
       "2  0.660553      False  "
      ]
     },
     "execution_count": 3,
     "metadata": {},
     "output_type": "execute_result"
    }
   ],
   "source": [
    "# Binomial test\n",
    "vt.binomial_test(test_data_main, \"ratings\", \"default_flag\", \"predicted_pd\")"
   ]
  },
  {
   "cell_type": "code",
   "execution_count": 4,
   "metadata": {},
   "outputs": [
    {
     "data": {
      "text/html": [
       "<div>\n",
       "<style scoped>\n",
       "    .dataframe tbody tr th:only-of-type {\n",
       "        vertical-align: middle;\n",
       "    }\n",
       "\n",
       "    .dataframe tbody tr th {\n",
       "        vertical-align: top;\n",
       "    }\n",
       "\n",
       "    .dataframe thead th {\n",
       "        text-align: right;\n",
       "    }\n",
       "</style>\n",
       "<table border=\"1\" class=\"dataframe\">\n",
       "  <thead>\n",
       "    <tr style=\"text-align: right;\">\n",
       "      <th></th>\n",
       "      <th>Rating class</th>\n",
       "      <th>Predicted PD</th>\n",
       "      <th>Total count</th>\n",
       "      <th>Defaults</th>\n",
       "      <th>Actual Default Rate</th>\n",
       "      <th>p_value</th>\n",
       "      <th>Reject H0</th>\n",
       "    </tr>\n",
       "  </thead>\n",
       "  <tbody>\n",
       "    <tr>\n",
       "      <th>0</th>\n",
       "      <td>A</td>\n",
       "      <td>0.103429</td>\n",
       "      <td>406</td>\n",
       "      <td>55</td>\n",
       "      <td>0.135468</td>\n",
       "      <td>0.019959</td>\n",
       "      <td>True</td>\n",
       "    </tr>\n",
       "    <tr>\n",
       "      <th>1</th>\n",
       "      <td>B</td>\n",
       "      <td>0.099524</td>\n",
       "      <td>480</td>\n",
       "      <td>41</td>\n",
       "      <td>0.085417</td>\n",
       "      <td>0.849552</td>\n",
       "      <td>False</td>\n",
       "    </tr>\n",
       "    <tr>\n",
       "      <th>2</th>\n",
       "      <td>C</td>\n",
       "      <td>0.095719</td>\n",
       "      <td>114</td>\n",
       "      <td>10</td>\n",
       "      <td>0.087719</td>\n",
       "      <td>0.598649</td>\n",
       "      <td>False</td>\n",
       "    </tr>\n",
       "  </tbody>\n",
       "</table>\n",
       "</div>"
      ],
      "text/plain": [
       "  Rating class  Predicted PD  Total count  Defaults  Actual Default Rate  \\\n",
       "0            A      0.103429          406        55             0.135468   \n",
       "1            B      0.099524          480        41             0.085417   \n",
       "2            C      0.095719          114        10             0.087719   \n",
       "\n",
       "    p_value  Reject H0  \n",
       "0  0.019959       True  \n",
       "1  0.849552      False  \n",
       "2  0.598649      False  "
      ]
     },
     "execution_count": 4,
     "metadata": {},
     "output_type": "execute_result"
    }
   ],
   "source": [
    "# Jeffrey's test\n",
    "vt.jeffreys_test(test_data_main, 'ratings', 'default_flag', 'predicted_pd', 0.05)"
   ]
  },
  {
   "cell_type": "code",
   "execution_count": 5,
   "metadata": {},
   "outputs": [
    {
     "data": {
      "text/plain": [
       "0.0012895084997917349"
      ]
     },
     "execution_count": 5,
     "metadata": {},
     "output_type": "execute_result"
    }
   ],
   "source": [
    "# Brier score\n",
    "vt.brier_score(test_data_main, \"ratings\", \"default_flag\", \"predicted_pd\")"
   ]
  },
  {
   "cell_type": "code",
   "execution_count": 6,
   "metadata": {},
   "outputs": [
    {
     "data": {
      "text/plain": [
       "[0.01751076838557808, True]"
      ]
     },
     "execution_count": 6,
     "metadata": {},
     "output_type": "execute_result"
    }
   ],
   "source": [
    "# Hosmer-Lemeshow test\n",
    "vt.hosmer_test(test_data_main, \"ratings\", \"default_flag\", \"predicted_pd\")"
   ]
  },
  {
   "cell_type": "code",
   "execution_count": null,
   "metadata": {},
   "outputs": [],
   "source": []
  },
  {
   "cell_type": "code",
   "execution_count": null,
   "metadata": {},
   "outputs": [],
   "source": []
  }
 ],
 "metadata": {
  "kernelspec": {
   "display_name": "Python 3 (ipykernel)",
   "language": "python",
   "name": "python3"
  },
  "language_info": {
   "codemirror_mode": {
    "name": "ipython",
    "version": 3
   },
   "file_extension": ".py",
   "mimetype": "text/x-python",
   "name": "python",
   "nbconvert_exporter": "python",
   "pygments_lexer": "ipython3",
   "version": "3.9.7"
  },
  "vscode": {
   "interpreter": {
    "hash": "eabca979b0553fa6d87e9a00c352604d3b703d4afc9641643dd42376492b80f6"
   }
  }
 },
 "nbformat": 4,
 "nbformat_minor": 4
}
