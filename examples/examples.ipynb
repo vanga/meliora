{
 "cells": [
  {
   "cell_type": "markdown",
   "metadata": {},
   "source": [
    "## Examples of usage"
   ]
  },
  {
   "cell_type": "code",
   "execution_count": 1,
   "metadata": {},
   "outputs": [],
   "source": [
    "import numpy as np\n",
    "import random\n",
    "import pandas as pd\n",
    "import meliora.meliora.val_tests as vt"
   ]
  },
  {
   "cell_type": "code",
   "execution_count": 2,
   "metadata": {},
   "outputs": [],
   "source": [
    "# Import data\n",
    "test_data_main = pd.read_csv('pd_test_data_main.csv')\n",
    "test_data_add = pd.read_csv('pd_test_data_period_2.csv')"
   ]
  },
  {
   "cell_type": "code",
   "execution_count": 3,
   "metadata": {},
   "outputs": [
    {
     "data": {
      "text/html": [
       "<div>\n",
       "<style scoped>\n",
       "    .dataframe tbody tr th:only-of-type {\n",
       "        vertical-align: middle;\n",
       "    }\n",
       "\n",
       "    .dataframe tbody tr th {\n",
       "        vertical-align: top;\n",
       "    }\n",
       "\n",
       "    .dataframe thead th {\n",
       "        text-align: right;\n",
       "    }\n",
       "</style>\n",
       "<table border=\"1\" class=\"dataframe\">\n",
       "  <thead>\n",
       "    <tr style=\"text-align: right;\">\n",
       "      <th></th>\n",
       "      <th>Rating class</th>\n",
       "      <th>Predicted PD</th>\n",
       "      <th>Total count</th>\n",
       "      <th>Defaults</th>\n",
       "      <th>Actual Default Rate</th>\n",
       "      <th>p_value</th>\n",
       "      <th>Reject H0</th>\n",
       "    </tr>\n",
       "  </thead>\n",
       "  <tbody>\n",
       "    <tr>\n",
       "      <th>0</th>\n",
       "      <td>A</td>\n",
       "      <td>0.103429</td>\n",
       "      <td>406</td>\n",
       "      <td>55</td>\n",
       "      <td>0.135468</td>\n",
       "      <td>0.023892</td>\n",
       "      <td>True</td>\n",
       "    </tr>\n",
       "    <tr>\n",
       "      <th>1</th>\n",
       "      <td>B</td>\n",
       "      <td>0.099524</td>\n",
       "      <td>480</td>\n",
       "      <td>41</td>\n",
       "      <td>0.085417</td>\n",
       "      <td>0.867441</td>\n",
       "      <td>False</td>\n",
       "    </tr>\n",
       "    <tr>\n",
       "      <th>2</th>\n",
       "      <td>C</td>\n",
       "      <td>0.095719</td>\n",
       "      <td>114</td>\n",
       "      <td>10</td>\n",
       "      <td>0.087719</td>\n",
       "      <td>0.660553</td>\n",
       "      <td>False</td>\n",
       "    </tr>\n",
       "  </tbody>\n",
       "</table>\n",
       "</div>"
      ],
      "text/plain": [
       "  Rating class  Predicted PD  Total count  Defaults  Actual Default Rate  \\\n",
       "0            A      0.103429          406        55             0.135468   \n",
       "1            B      0.099524          480        41             0.085417   \n",
       "2            C      0.095719          114        10             0.087719   \n",
       "\n",
       "    p_value  Reject H0  \n",
       "0  0.023892       True  \n",
       "1  0.867441      False  \n",
       "2  0.660553      False  "
      ]
     },
     "execution_count": 3,
     "metadata": {},
     "output_type": "execute_result"
    }
   ],
   "source": [
    "# Binomial test\n",
    "vt.binomial_test(test_data_main, \"ratings\", \"default_flag\", \"predicted_pd\")"
   ]
  },
  {
   "cell_type": "code",
   "execution_count": 4,
   "metadata": {},
   "outputs": [
    {
     "data": {
      "text/html": [
       "<div>\n",
       "<style scoped>\n",
       "    .dataframe tbody tr th:only-of-type {\n",
       "        vertical-align: middle;\n",
       "    }\n",
       "\n",
       "    .dataframe tbody tr th {\n",
       "        vertical-align: top;\n",
       "    }\n",
       "\n",
       "    .dataframe thead th {\n",
       "        text-align: right;\n",
       "    }\n",
       "</style>\n",
       "<table border=\"1\" class=\"dataframe\">\n",
       "  <thead>\n",
       "    <tr style=\"text-align: right;\">\n",
       "      <th></th>\n",
       "      <th>Rating class</th>\n",
       "      <th>Predicted PD</th>\n",
       "      <th>Total count</th>\n",
       "      <th>Defaults</th>\n",
       "      <th>Actual Default Rate</th>\n",
       "      <th>p_value</th>\n",
       "      <th>Reject H0</th>\n",
       "    </tr>\n",
       "  </thead>\n",
       "  <tbody>\n",
       "    <tr>\n",
       "      <th>0</th>\n",
       "      <td>A</td>\n",
       "      <td>0.103429</td>\n",
       "      <td>406</td>\n",
       "      <td>55</td>\n",
       "      <td>0.135468</td>\n",
       "      <td>0.019959</td>\n",
       "      <td>True</td>\n",
       "    </tr>\n",
       "    <tr>\n",
       "      <th>1</th>\n",
       "      <td>B</td>\n",
       "      <td>0.099524</td>\n",
       "      <td>480</td>\n",
       "      <td>41</td>\n",
       "      <td>0.085417</td>\n",
       "      <td>0.849552</td>\n",
       "      <td>False</td>\n",
       "    </tr>\n",
       "    <tr>\n",
       "      <th>2</th>\n",
       "      <td>C</td>\n",
       "      <td>0.095719</td>\n",
       "      <td>114</td>\n",
       "      <td>10</td>\n",
       "      <td>0.087719</td>\n",
       "      <td>0.598649</td>\n",
       "      <td>False</td>\n",
       "    </tr>\n",
       "  </tbody>\n",
       "</table>\n",
       "</div>"
      ],
      "text/plain": [
       "  Rating class  Predicted PD  Total count  Defaults  Actual Default Rate  \\\n",
       "0            A      0.103429          406        55             0.135468   \n",
       "1            B      0.099524          480        41             0.085417   \n",
       "2            C      0.095719          114        10             0.087719   \n",
       "\n",
       "    p_value  Reject H0  \n",
       "0  0.019959       True  \n",
       "1  0.849552      False  \n",
       "2  0.598649      False  "
      ]
     },
     "execution_count": 4,
     "metadata": {},
     "output_type": "execute_result"
    }
   ],
   "source": [
    "# Jeffrey's test\n",
    "vt.jeffreys_test(test_data_main, 'ratings', 'default_flag', 'predicted_pd', 0.05)"
   ]
  },
  {
   "cell_type": "code",
   "execution_count": 5,
   "metadata": {},
   "outputs": [
    {
     "data": {
      "text/plain": [
       "0.0012895084997917349"
      ]
     },
     "execution_count": 5,
     "metadata": {},
     "output_type": "execute_result"
    }
   ],
   "source": [
    "# Brier score\n",
    "vt.brier_score(test_data_main, \"ratings\", \"default_flag\", \"predicted_pd\")"
   ]
  },
  {
   "cell_type": "code",
   "execution_count": 6,
   "metadata": {},
   "outputs": [
    {
     "data": {
      "text/plain": [
       "[0.1302500370047408, False]"
      ]
     },
     "execution_count": 6,
     "metadata": {},
     "output_type": "execute_result"
    }
   ],
   "source": [
    "# Hosmer-Lemeshow test\n",
    "vt.hosmer_test(test_data_main, \"ratings\", \"default_flag\", \"predicted_pd\")"
   ]
  },
  {
   "cell_type": "code",
   "execution_count": 7,
   "metadata": {},
   "outputs": [
    {
     "data": {
      "text/plain": [
       "(-0.6637590511485174, False)"
      ]
     },
     "execution_count": 7,
     "metadata": {},
     "output_type": "execute_result"
    }
   ],
   "source": [
    "# Spiegelhalter test\n",
    "vt.spiegelhalter_test(test_data_main, \"ratings\", \"default_flag\", \"predicted_pd\")"
   ]
  },
  {
   "cell_type": "code",
   "execution_count": 8,
   "metadata": {},
   "outputs": [
    {
     "data": {
      "text/plain": [
       "0.5008547549702419"
      ]
     },
     "execution_count": 8,
     "metadata": {},
     "output_type": "execute_result"
    }
   ],
   "source": [
    "# ROC test\n",
    "vt.roc_auc(test_data_main, \"default_flag\", \"predicted_pd\")"
   ]
  },
  {
   "cell_type": "code",
   "execution_count": null,
   "metadata": {},
   "outputs": [],
   "source": []
  },
  {
   "cell_type": "code",
   "execution_count": null,
   "metadata": {},
   "outputs": [],
   "source": []
  },
  {
   "cell_type": "code",
   "execution_count": null,
   "metadata": {},
   "outputs": [],
   "source": []
  },
  {
   "cell_type": "code",
   "execution_count": 9,
   "metadata": {},
   "outputs": [],
   "source": [
    "# Transform input data into the required format\n",
    "df = test_data_main.groupby('ratings').agg({'predicted_pd': \"mean\", 'default_flag': [\"count\", \"sum\", \"mean\"]})\n",
    "df.columns = [\"PD\", \"N\", \"D\", \"Default Rate\"]\n"
   ]
  },
  {
   "cell_type": "code",
   "execution_count": 10,
   "metadata": {},
   "outputs": [],
   "source": [
    "realised_values = df[\"Default Rate\"]\n",
    "predicted_values = df[\"PD\"]"
   ]
  },
  {
   "cell_type": "code",
   "execution_count": 11,
   "metadata": {},
   "outputs": [],
   "source": [
    "from scipy.stats import norm\n",
    "\n",
    "# Calculate mean squared error\n",
    "errors = realised_values - predicted_values\n",
    "mse = (errors**2).sum() / len(errors)\n",
    "\n",
    "# # Calculate null expectation and variance of MSE\n",
    "expectations = sum(predicted_values * (1 - predicted_values)) / len(realised_values)\n",
    "variances = sum(predicted_values * (1 - 2 * predicted_values)**2 * (1 - predicted_values)) / len(realised_values)**2\n",
    "\n",
    "# Calculate standardized statistic\n",
    "z_score = (mse - expectations) / np.sqrt(variances)  # todo: check formula\n",
    "\n",
    "# Calculate standardized MSE as test statistic, then its p-value\n",
    "outcome = z_score > norm.ppf(1 - 0.05/2)"
   ]
  },
  {
   "cell_type": "code",
   "execution_count": 12,
   "metadata": {},
   "outputs": [
    {
     "data": {
      "text/plain": [
       "ratings\n",
       "A    0.032039\n",
       "B   -0.014107\n",
       "C   -0.008000\n",
       "dtype: float64"
      ]
     },
     "execution_count": 12,
     "metadata": {},
     "output_type": "execute_result"
    }
   ],
   "source": [
    "errors"
   ]
  },
  {
   "cell_type": "code",
   "execution_count": 13,
   "metadata": {},
   "outputs": [
    {
     "data": {
      "text/plain": [
       "0.00042983616659724496"
      ]
     },
     "execution_count": 13,
     "metadata": {},
     "output_type": "execute_result"
    }
   ],
   "source": [
    "mse"
   ]
  },
  {
   "cell_type": "code",
   "execution_count": 14,
   "metadata": {},
   "outputs": [
    {
     "data": {
      "text/plain": [
       "1.959963984540054"
      ]
     },
     "execution_count": 14,
     "metadata": {},
     "output_type": "execute_result"
    }
   ],
   "source": [
    "norm.ppf(1 - 0.05/2)"
   ]
  },
  {
   "cell_type": "code",
   "execution_count": null,
   "metadata": {},
   "outputs": [],
   "source": []
  },
  {
   "cell_type": "code",
   "execution_count": null,
   "metadata": {},
   "outputs": [],
   "source": []
  },
  {
   "cell_type": "code",
   "execution_count": 15,
   "metadata": {},
   "outputs": [
    {
     "data": {
      "text/html": [
       "<div>\n",
       "<style scoped>\n",
       "    .dataframe tbody tr th:only-of-type {\n",
       "        vertical-align: middle;\n",
       "    }\n",
       "\n",
       "    .dataframe tbody tr th {\n",
       "        vertical-align: top;\n",
       "    }\n",
       "\n",
       "    .dataframe thead th {\n",
       "        text-align: right;\n",
       "    }\n",
       "</style>\n",
       "<table border=\"1\" class=\"dataframe\">\n",
       "  <thead>\n",
       "    <tr style=\"text-align: right;\">\n",
       "      <th></th>\n",
       "      <th>ratings</th>\n",
       "      <th>default_flag</th>\n",
       "      <th>predicted_pd</th>\n",
       "    </tr>\n",
       "  </thead>\n",
       "  <tbody>\n",
       "    <tr>\n",
       "      <th>0</th>\n",
       "      <td>B</td>\n",
       "      <td>0</td>\n",
       "      <td>0.137215</td>\n",
       "    </tr>\n",
       "    <tr>\n",
       "      <th>1</th>\n",
       "      <td>A</td>\n",
       "      <td>0</td>\n",
       "      <td>0.130365</td>\n",
       "    </tr>\n",
       "    <tr>\n",
       "      <th>2</th>\n",
       "      <td>C</td>\n",
       "      <td>0</td>\n",
       "      <td>0.188544</td>\n",
       "    </tr>\n",
       "    <tr>\n",
       "      <th>3</th>\n",
       "      <td>A</td>\n",
       "      <td>0</td>\n",
       "      <td>0.178812</td>\n",
       "    </tr>\n",
       "    <tr>\n",
       "      <th>4</th>\n",
       "      <td>C</td>\n",
       "      <td>0</td>\n",
       "      <td>0.135670</td>\n",
       "    </tr>\n",
       "  </tbody>\n",
       "</table>\n",
       "</div>"
      ],
      "text/plain": [
       "  ratings  default_flag  predicted_pd\n",
       "0       B             0      0.137215\n",
       "1       A             0      0.130365\n",
       "2       C             0      0.188544\n",
       "3       A             0      0.178812\n",
       "4       C             0      0.135670"
      ]
     },
     "execution_count": 15,
     "metadata": {},
     "output_type": "execute_result"
    }
   ],
   "source": [
    "test_data_main.head()"
   ]
  },
  {
   "cell_type": "code",
   "execution_count": 16,
   "metadata": {},
   "outputs": [],
   "source": [
    "# hosmer_lemeshow = function(y, prob, g, stat_type){\n",
    "#   mtx = cbind(y, y_not = 1- y, prob, prob_not = 1-prob)\n",
    "#   mtx = as.data.frame(mtx)\n",
    "#   mtx = mtx[order(mtx$prob),]\n",
    "#   n <- length(prob)/g\n",
    "#   nr <- nrow(mtx)\n",
    "  \n",
    "#   ## C statistics, same number of instances in each bin\n",
    "#   if (stat_type == 'C'){\n",
    "#     split_mtx = split(mtx, rep(1:ceiling(nr/n), each=n, length.out=nr))\n",
    "#   }else{ ### H statistics, equal intervals\n",
    "#     split_mtx = split(mtx, cut(mtx$prob, seq(0,1,1/g), include.lowest=TRUE))\n",
    "#     split_mtx = split_mtx[sapply(split_mtx, nrow)>0]\n",
    "#     ###\n",
    "#   }\n",
    "  \n",
    "#   H_stat = 0\n",
    "#   for (i in 1:length(split_mtx)){\n",
    "#     obs = sum(split_mtx[[i]]$y == 1)\n",
    "#     exp = sum(split_mtx[[i]]$prob)\n",
    "#     obs_not = sum(split_mtx[[i]]$y == 0)\n",
    "#     exp_not = sum(split_mtx[[i]]$prob_not)\n",
    "    \n",
    "#     if (exp == 0 || exp_not == 0){\n",
    "#       next\n",
    "#     }\n",
    "    \n",
    "#     bin_sum = ((obs - exp)**2)/exp + ((obs_not - exp_not)**2)/exp_not\n",
    "\n",
    "#     H_stat = H_stat + bin_sum\n",
    "#   }\n",
    "#   PVAL = 1 - pchisq(H_stat, g - 2)\n",
    "  \n",
    "#   cat('PVALUE', PVAL, '\\n')\n",
    "#   cat('stat', H_stat, '\\n')\n",
    "#   return(PVAL)\n",
    "# }"
   ]
  },
  {
   "cell_type": "code",
   "execution_count": 17,
   "metadata": {},
   "outputs": [],
   "source": [
    "# Spiegelhalter_z = function(y, prob){\n",
    "#   alpha = 0.05\n",
    "#   z_score = sum((y-prob)*(1-2*prob))/sqrt(sum(((1-2*prob)^2)*prob*(1-prob)))\n",
    "#   print(z_score)\n",
    "#   if (abs(z_score) > qnorm(1-alpha/2)){\n",
    "#     print('reject null. NOT calibrated')\n",
    "#   } else{\n",
    "#     print('fail to reject. calibrated')\n",
    "#   }\n",
    "#   cat('z score: ', z_score, '\\n')\n",
    "#   cat('p value: ', 1-pnorm(abs(z_score)), '\\n')\n",
    "#   return(z_score)\n",
    "# }"
   ]
  },
  {
   "cell_type": "code",
   "execution_count": 18,
   "metadata": {},
   "outputs": [],
   "source": [
    "# https://documentation.sas.com/doc/en/pgmsascdc/v_011/statug/statug_code_logiex19.htm"
   ]
  },
  {
   "cell_type": "code",
   "execution_count": 19,
   "metadata": {},
   "outputs": [],
   "source": [
    "# ##Entropy\n",
    "# def entropy(Y):\n",
    "#     \"\"\"\n",
    "#     Also known as Shanon Entropy\n",
    "#     Reference: https://en.wikipedia.org/wiki/Entropy_(information_theory)\n",
    "#     \"\"\"\n",
    "#     unique, count = np.unique(Y, return_counts=True, axis=0)\n",
    "#     prob = count/len(Y)\n",
    "#     en = np.sum((-1)*prob*np.log2(prob))\n",
    "#     return en\n",
    "\n",
    "\n",
    "# #Joint Entropy\n",
    "# def jEntropy(Y,X):\n",
    "#     \"\"\"\n",
    "#     H(Y;X)\n",
    "#     Reference: https://en.wikipedia.org/wiki/Joint_entropy\n",
    "#     \"\"\"\n",
    "#     YX = np.c_[Y,X]\n",
    "#     return entropy(YX)\n",
    "\n",
    "# #Conditional Entropy\n",
    "# def cEntropy(Y, X):\n",
    "#     \"\"\"\n",
    "#     conditional entropy = Joint Entropy - Entropy of X\n",
    "#     H(Y|X) = H(Y;X) - H(X)\n",
    "#     Reference: https://en.wikipedia.org/wiki/Conditional_entropy\n",
    "#     \"\"\"\n",
    "#     return jEntropy(Y, X) - entropy(X)\n",
    "\n",
    "\n",
    "# #Information Gain\n",
    "# def gain(Y, X):\n",
    "#     \"\"\"\n",
    "#     Information Gain, I(Y;X) = H(Y) - H(Y|X)\n",
    "#     Reference: https://en.wikipedia.org/wiki/Information_gain_in_decision_trees#Formal_definition\n",
    "#     \"\"\"\n",
    "#     return entropy(Y) - cEntropy(Y,X)"
   ]
  },
  {
   "cell_type": "code",
   "execution_count": 20,
   "metadata": {},
   "outputs": [],
   "source": [
    "# https://machinelearningmastery.com/divergence-between-probability-distributions/"
   ]
  },
  {
   "cell_type": "code",
   "execution_count": 21,
   "metadata": {},
   "outputs": [],
   "source": [
    "# https://medium.com/@monadsblog/the-kullback-leibler-divergence-5071c707a4a6"
   ]
  },
  {
   "cell_type": "code",
   "execution_count": null,
   "metadata": {},
   "outputs": [],
   "source": []
  },
  {
   "cell_type": "code",
   "execution_count": null,
   "metadata": {},
   "outputs": [],
   "source": []
  }
 ],
 "metadata": {
  "kernelspec": {
   "display_name": "Python 3 (ipykernel)",
   "language": "python",
   "name": "python3"
  },
  "language_info": {
   "codemirror_mode": {
    "name": "ipython",
    "version": 3
   },
   "file_extension": ".py",
   "mimetype": "text/x-python",
   "name": "python",
   "nbconvert_exporter": "python",
   "pygments_lexer": "ipython3",
   "version": "3.9.7"
  },
  "vscode": {
   "interpreter": {
    "hash": "eabca979b0553fa6d87e9a00c352604d3b703d4afc9641643dd42376492b80f6"
   }
  }
 },
 "nbformat": 4,
 "nbformat_minor": 4
}
