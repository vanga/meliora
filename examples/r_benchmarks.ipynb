{
 "cells": [
  {
   "cell_type": "code",
   "execution_count": 1,
   "id": "90e4a353-8d8f-4b40-9d99-3ef6b328b9f6",
   "metadata": {},
   "outputs": [],
   "source": [
    "#if (!requireNamespace(\"BiocManager\", quietly = TRUE))\n",
    "#  install.packages(\"BiocManager\")\n",
    "#BiocManager::install(\"iterativeBMA\")\n",
    "#install.packages(\"PDtoolkit\")\n",
    "# install.packages(\"remotes\")\n",
    "# remotes::install_github(\"ayhandis/creditR\")\n",
    "\n",
    "##########\n",
    "# There doesn't appear to be an R implementation of the Spiegelhalter test.\n",
    "# The SAS implementation seems to be very limited in its scope: it doesn't let you\n",
    "# specify the hypothesized success probabilities as far as I can tell."
   ]
  },
  {
   "cell_type": "code",
   "execution_count": 2,
   "id": "63e14eda-a040-40a3-a7d9-328604c371f1",
   "metadata": {},
   "outputs": [
    {
     "name": "stderr",
     "output_type": "stream",
     "text": [
      "Warning message:\n",
      "\"replacing previous import 'lifecycle::last_warnings' by 'rlang::last_warnings' when loading 'tibble'\"\n",
      "\n",
      "Attaching package: 'dplyr'\n",
      "\n",
      "\n",
      "The following objects are masked from 'package:stats':\n",
      "\n",
      "    filter, lag\n",
      "\n",
      "\n",
      "The following objects are masked from 'package:base':\n",
      "\n",
      "    intersect, setdiff, setequal, union\n",
      "\n",
      "\n",
      "\n",
      "Attaching package: 'Hmisc'\n",
      "\n",
      "\n",
      "The following objects are masked from 'package:dplyr':\n",
      "\n",
      "    src, summarize\n",
      "\n",
      "\n",
      "The following objects are masked from 'package:base':\n",
      "\n",
      "    format.pval, units\n",
      "\n",
      "\n",
      "\n",
      "Attaching package: 'PDtoolkit'\n",
      "\n",
      "\n",
      "The following object is masked from 'package:stats':\n",
      "\n",
      "    power\n",
      "\n",
      "\n"
     ]
    }
   ],
   "source": [
    "library(PDtoolkit, quietly=T)\n",
    "\n",
    "options(warn=-1)"
   ]
  },
  {
   "cell_type": "code",
   "execution_count": 3,
   "id": "1d49a2e9-23e7-478a-8137-4b07347adf13",
   "metadata": {},
   "outputs": [],
   "source": [
    "# Import data\n",
    "test_data_main <- read.csv(\"pd_test_data_main.csv\")\n",
    "test_data_period_2 <- read.csv(\"pd_test_data_period_2.csv\")"
   ]
  },
  {
   "cell_type": "code",
   "execution_count": 8,
   "id": "fc5b2664-d81d-4cc5-a0cd-c0573e86773b",
   "metadata": {},
   "outputs": [
    {
     "data": {
      "text/html": [
       "<table class=\"dataframe\">\n",
       "<caption>A tibble: 3 × 7</caption>\n",
       "<thead>\n",
       "\t<tr><th scope=col>ratings</th><th scope=col>predicted_pd_mean</th><th scope=col>default_flag_mean</th><th scope=col>predicted_pd_sum</th><th scope=col>default_flag_sum</th><th scope=col>predicted_pd_n</th><th scope=col>default_flag_n</th></tr>\n",
       "\t<tr><th scope=col>&lt;chr&gt;</th><th scope=col>&lt;dbl&gt;</th><th scope=col>&lt;dbl&gt;</th><th scope=col>&lt;dbl&gt;</th><th scope=col>&lt;int&gt;</th><th scope=col>&lt;int&gt;</th><th scope=col>&lt;int&gt;</th></tr>\n",
       "</thead>\n",
       "<tbody>\n",
       "\t<tr><td>A</td><td>0.10342906</td><td>0.13546798</td><td>41.9922</td><td>55</td><td>406</td><td>406</td></tr>\n",
       "\t<tr><td>B</td><td>0.09952396</td><td>0.08541667</td><td>47.7715</td><td>41</td><td>480</td><td>480</td></tr>\n",
       "\t<tr><td>C</td><td>0.09571932</td><td>0.08771930</td><td>10.9120</td><td>10</td><td>114</td><td>114</td></tr>\n",
       "</tbody>\n",
       "</table>\n"
      ],
      "text/latex": [
       "A tibble: 3 × 7\n",
       "\\begin{tabular}{lllllll}\n",
       " ratings & predicted\\_pd\\_mean & default\\_flag\\_mean & predicted\\_pd\\_sum & default\\_flag\\_sum & predicted\\_pd\\_n & default\\_flag\\_n\\\\\n",
       " <chr> & <dbl> & <dbl> & <dbl> & <int> & <int> & <int>\\\\\n",
       "\\hline\n",
       "\t A & 0.10342906 & 0.13546798 & 41.9922 & 55 & 406 & 406\\\\\n",
       "\t B & 0.09952396 & 0.08541667 & 47.7715 & 41 & 480 & 480\\\\\n",
       "\t C & 0.09571932 & 0.08771930 & 10.9120 & 10 & 114 & 114\\\\\n",
       "\\end{tabular}\n"
      ],
      "text/markdown": [
       "\n",
       "A tibble: 3 × 7\n",
       "\n",
       "| ratings &lt;chr&gt; | predicted_pd_mean &lt;dbl&gt; | default_flag_mean &lt;dbl&gt; | predicted_pd_sum &lt;dbl&gt; | default_flag_sum &lt;int&gt; | predicted_pd_n &lt;int&gt; | default_flag_n &lt;int&gt; |\n",
       "|---|---|---|---|---|---|---|\n",
       "| A | 0.10342906 | 0.13546798 | 41.9922 | 55 | 406 | 406 |\n",
       "| B | 0.09952396 | 0.08541667 | 47.7715 | 41 | 480 | 480 |\n",
       "| C | 0.09571932 | 0.08771930 | 10.9120 | 10 | 114 | 114 |\n",
       "\n"
      ],
      "text/plain": [
       "  ratings predicted_pd_mean default_flag_mean predicted_pd_sum default_flag_sum\n",
       "1 A       0.10342906        0.13546798        41.9922          55              \n",
       "2 B       0.09952396        0.08541667        47.7715          41              \n",
       "3 C       0.09571932        0.08771930        10.9120          10              \n",
       "  predicted_pd_n default_flag_n\n",
       "1 406            406           \n",
       "2 480            480           \n",
       "3 114            114           "
      ]
     },
     "metadata": {},
     "output_type": "display_data"
    }
   ],
   "source": [
    "# Aggregate the results\n",
    "bin_data <- test_data_main %>%\n",
    "            group_by(ratings) %>%\n",
    "            summarise_at(vars(predicted_pd, default_flag), funs(mean(.), sum(.), n()))\n",
    "\n",
    "bin_data"
   ]
  },
  {
   "cell_type": "code",
   "execution_count": null,
   "id": "60c6b24f-1d43-4421-a107-5efb14258cdd",
   "metadata": {},
   "outputs": [],
   "source": []
  },
  {
   "cell_type": "markdown",
   "id": "9e100991-2e1e-466c-bf63-0a249b1f1c43",
   "metadata": {},
   "source": [
    "### 1. Binomial / Jeffrey's / Hoshmer-Lemeshow / z-score"
   ]
  },
  {
   "cell_type": "code",
   "execution_count": 4,
   "id": "73531531-b02c-4e93-a35c-fc04391bdcc7",
   "metadata": {},
   "outputs": [
    {
     "data": {
      "text/html": [
       "<table class=\"dataframe\">\n",
       "<caption>A data.frame: 3 × 14</caption>\n",
       "<thead>\n",
       "\t<tr><th scope=col>rating</th><th scope=col>no</th><th scope=col>nb</th><th scope=col>odr</th><th scope=col>pdc</th><th scope=col>alpha</th><th scope=col>binomial</th><th scope=col>binomial.res</th><th scope=col>jeffreys</th><th scope=col>jeffreys.res</th><th scope=col>zscore</th><th scope=col>zscore.res</th><th scope=col>hosmer.lemeshow</th><th scope=col>hosmer.lemeshow.res</th></tr>\n",
       "\t<tr><th scope=col>&lt;chr&gt;</th><th scope=col>&lt;int&gt;</th><th scope=col>&lt;int&gt;</th><th scope=col>&lt;dbl&gt;</th><th scope=col>&lt;dbl&gt;</th><th scope=col>&lt;dbl&gt;</th><th scope=col>&lt;dbl&gt;</th><th scope=col>&lt;chr&gt;</th><th scope=col>&lt;dbl&gt;</th><th scope=col>&lt;chr&gt;</th><th scope=col>&lt;dbl&gt;</th><th scope=col>&lt;chr&gt;</th><th scope=col>&lt;dbl&gt;</th><th scope=col>&lt;chr&gt;</th></tr>\n",
       "</thead>\n",
       "<tbody>\n",
       "\t<tr><td>A</td><td>406</td><td>55</td><td>0.13546798</td><td>0.10342906</td><td>0.05</td><td>0.02389227</td><td>H1: ODR &gt; PDC </td><td>0.01995857</td><td>H1: ODR &gt; PDC </td><td>0.01700479</td><td>H1: ODR &gt; PDC </td><td>0.13025</td><td>H0: ODR &lt;= PDC</td></tr>\n",
       "\t<tr><td>B</td><td>480</td><td>41</td><td>0.08541667</td><td>0.09952396</td><td>0.05</td><td>0.86744061</td><td>H0: ODR &lt;= PDC</td><td>0.84955196</td><td>H0: ODR &lt;= PDC</td><td>0.84906675</td><td>H0: ODR &lt;= PDC</td><td>0.13025</td><td>H0: ODR &lt;= PDC</td></tr>\n",
       "\t<tr><td>C</td><td>114</td><td>10</td><td>0.08771930</td><td>0.09571932</td><td>0.05</td><td>0.66055279</td><td>H0: ODR &lt;= PDC</td><td>0.59864873</td><td>H0: ODR &lt;= PDC</td><td>0.61421823</td><td>H0: ODR &lt;= PDC</td><td>0.13025</td><td>H0: ODR &lt;= PDC</td></tr>\n",
       "</tbody>\n",
       "</table>\n"
      ],
      "text/latex": [
       "A data.frame: 3 × 14\n",
       "\\begin{tabular}{llllllllllllll}\n",
       " rating & no & nb & odr & pdc & alpha & binomial & binomial.res & jeffreys & jeffreys.res & zscore & zscore.res & hosmer.lemeshow & hosmer.lemeshow.res\\\\\n",
       " <chr> & <int> & <int> & <dbl> & <dbl> & <dbl> & <dbl> & <chr> & <dbl> & <chr> & <dbl> & <chr> & <dbl> & <chr>\\\\\n",
       "\\hline\n",
       "\t A & 406 & 55 & 0.13546798 & 0.10342906 & 0.05 & 0.02389227 & H1: ODR > PDC  & 0.01995857 & H1: ODR > PDC  & 0.01700479 & H1: ODR > PDC  & 0.13025 & H0: ODR <= PDC\\\\\n",
       "\t B & 480 & 41 & 0.08541667 & 0.09952396 & 0.05 & 0.86744061 & H0: ODR <= PDC & 0.84955196 & H0: ODR <= PDC & 0.84906675 & H0: ODR <= PDC & 0.13025 & H0: ODR <= PDC\\\\\n",
       "\t C & 114 & 10 & 0.08771930 & 0.09571932 & 0.05 & 0.66055279 & H0: ODR <= PDC & 0.59864873 & H0: ODR <= PDC & 0.61421823 & H0: ODR <= PDC & 0.13025 & H0: ODR <= PDC\\\\\n",
       "\\end{tabular}\n"
      ],
      "text/markdown": [
       "\n",
       "A data.frame: 3 × 14\n",
       "\n",
       "| rating &lt;chr&gt; | no &lt;int&gt; | nb &lt;int&gt; | odr &lt;dbl&gt; | pdc &lt;dbl&gt; | alpha &lt;dbl&gt; | binomial &lt;dbl&gt; | binomial.res &lt;chr&gt; | jeffreys &lt;dbl&gt; | jeffreys.res &lt;chr&gt; | zscore &lt;dbl&gt; | zscore.res &lt;chr&gt; | hosmer.lemeshow &lt;dbl&gt; | hosmer.lemeshow.res &lt;chr&gt; |\n",
       "|---|---|---|---|---|---|---|---|---|---|---|---|---|---|\n",
       "| A | 406 | 55 | 0.13546798 | 0.10342906 | 0.05 | 0.02389227 | H1: ODR &gt; PDC  | 0.01995857 | H1: ODR &gt; PDC  | 0.01700479 | H1: ODR &gt; PDC  | 0.13025 | H0: ODR &lt;= PDC |\n",
       "| B | 480 | 41 | 0.08541667 | 0.09952396 | 0.05 | 0.86744061 | H0: ODR &lt;= PDC | 0.84955196 | H0: ODR &lt;= PDC | 0.84906675 | H0: ODR &lt;= PDC | 0.13025 | H0: ODR &lt;= PDC |\n",
       "| C | 114 | 10 | 0.08771930 | 0.09571932 | 0.05 | 0.66055279 | H0: ODR &lt;= PDC | 0.59864873 | H0: ODR &lt;= PDC | 0.61421823 | H0: ODR &lt;= PDC | 0.13025 | H0: ODR &lt;= PDC |\n",
       "\n"
      ],
      "text/plain": [
       "  rating no  nb odr        pdc        alpha binomial   binomial.res  \n",
       "1 A      406 55 0.13546798 0.10342906 0.05  0.02389227 H1: ODR > PDC \n",
       "2 B      480 41 0.08541667 0.09952396 0.05  0.86744061 H0: ODR <= PDC\n",
       "3 C      114 10 0.08771930 0.09571932 0.05  0.66055279 H0: ODR <= PDC\n",
       "  jeffreys   jeffreys.res   zscore     zscore.res     hosmer.lemeshow\n",
       "1 0.01995857 H1: ODR > PDC  0.01700479 H1: ODR > PDC  0.13025        \n",
       "2 0.84955196 H0: ODR <= PDC 0.84906675 H0: ODR <= PDC 0.13025        \n",
       "3 0.59864873 H0: ODR <= PDC 0.61421823 H0: ODR <= PDC 0.13025        \n",
       "  hosmer.lemeshow.res\n",
       "1 H0: ODR <= PDC     \n",
       "2 H0: ODR <= PDC     \n",
       "3 H0: ODR <= PDC     "
      ]
     },
     "metadata": {},
     "output_type": "display_data"
    }
   ],
   "source": [
    "\n",
    "\n",
    "# Test with PDtoolkit\n",
    "pp.testing(rating.label = bin_data$ratings,\n",
    "           pdc = bin_data$predicted_pd_mean,\n",
    "           no = bin_data$predicted_pd_n,\n",
    "           nb = bin_data$default_flag_sum, \n",
    "           alpha = 0.05)"
   ]
  },
  {
   "cell_type": "markdown",
   "id": "b290f6bb-9eb6-4cfc-ab2f-7783830dd836",
   "metadata": {},
   "source": [
    "### 2. Brier Score"
   ]
  },
  {
   "cell_type": "code",
   "execution_count": 12,
   "id": "ccf91677-87ca-41c2-89b3-dfb1373a0ba0",
   "metadata": {},
   "outputs": [
    {
     "data": {
      "text/html": [
       "0.00128950849979173"
      ],
      "text/latex": [
       "0.00128950849979173"
      ],
      "text/markdown": [
       "0.00128950849979173"
      ],
      "text/plain": [
       "[1] 0.001289508"
      ]
     },
     "metadata": {},
     "output_type": "display_data"
    }
   ],
   "source": [
    "library(iterativeBMA, quietly = T)\n",
    "\n",
    "brier.score(bin_data$predicted_pd_mean, bin_data$default_flag_mean)"
   ]
  },
  {
   "cell_type": "markdown",
   "id": "85356986-1054-48c3-872b-acf6f6ac83a2",
   "metadata": {},
   "source": [
    "### 3. Herfindahl"
   ]
  },
  {
   "cell_type": "code",
   "execution_count": 9,
   "id": "de64f6e1-72ea-4fa2-8962-bfdc7caeefee",
   "metadata": {},
   "outputs": [
    {
     "name": "stdout",
     "output_type": "stream",
     "text": [
      "\u001b[90m# A tibble: 3 x 10\u001b[39m\n",
      "  ratings predicted_pd_mean default_flag_mean predicted_pd_sum default_flag_sum\n",
      "  \u001b[3m\u001b[90m<chr>\u001b[39m\u001b[23m               \u001b[3m\u001b[90m<dbl>\u001b[39m\u001b[23m             \u001b[3m\u001b[90m<dbl>\u001b[39m\u001b[23m            \u001b[3m\u001b[90m<dbl>\u001b[39m\u001b[23m            \u001b[3m\u001b[90m<int>\u001b[39m\u001b[23m\n",
      "\u001b[90m1\u001b[39m A                  0.103             0.135              42.0               55\n",
      "\u001b[90m2\u001b[39m B                  0.099\u001b[4m5\u001b[24m            0.085\u001b[4m4\u001b[24m             47.8               41\n",
      "\u001b[90m3\u001b[39m C                  0.095\u001b[4m7\u001b[24m            0.087\u001b[4m7\u001b[24m             10.9               10\n",
      "\u001b[90m# ... with 5 more variables: predicted_pd_n <int>, default_flag_n <int>,\u001b[39m\n",
      "\u001b[90m#   SumTotal <int>, concentration <df[,1]>, HHI <df[,1]>\u001b[39m\n"
     ]
    },
    {
     "data": {
      "text/html": [
       "0.408232"
      ],
      "text/latex": [
       "0.408232"
      ],
      "text/markdown": [
       "0.408232"
      ],
      "text/plain": [
       "[1] 0.408232"
      ]
     },
     "metadata": {},
     "output_type": "display_data"
    }
   ],
   "source": [
    "library(creditR, quietly = T)\n",
    "\n",
    "h <- Herfindahl.Hirschman.Index(bin_data, \"default_flag_n\")\n",
    "h"
   ]
  },
  {
   "cell_type": "markdown",
   "id": "e2c107fc-efe9-46ab-af27-28ddea12e962",
   "metadata": {},
   "source": [
    "### 4. Spiegelhalter"
   ]
  },
  {
   "cell_type": "code",
   "execution_count": 15,
   "id": "f7a23bf6-447e-4fb1-961e-1eaaf7bd1e59",
   "metadata": {},
   "outputs": [
    {
     "name": "stdout",
     "output_type": "stream",
     "text": [
      "[1] 0.01840817\n",
      "[1] \"fail to reject. calibrated\"\n",
      "z score:  0.01840817 \n",
      "p value:  0.4926566 \n"
     ]
    },
    {
     "data": {
      "text/html": [
       "0.0184081680486907"
      ],
      "text/latex": [
       "0.0184081680486907"
      ],
      "text/markdown": [
       "0.0184081680486907"
      ],
      "text/plain": [
       "[1] 0.01840817"
      ]
     },
     "metadata": {},
     "output_type": "display_data"
    }
   ],
   "source": [
    "Spiegelhalter_z = function(y, prob){\n",
    "  alpha = 0.05\n",
    "  z_score = sum((y-prob)*(1-2*prob))/sqrt(sum(((1-2*prob)^2)*prob*(1-prob)))\n",
    "  print(z_score)\n",
    "  if (abs(z_score) > qnorm(1-alpha/2)){\n",
    "    print('reject null. NOT calibrated')\n",
    "  } else {\n",
    "    print('fail to reject. calibrated')\n",
    "  }\n",
    "  cat('z score: ', z_score, '\\n')\n",
    "  cat('p value: ', 1-pnorm(abs(z_score)), '\\n')\n",
    "    \n",
    "  return(z_score)\n",
    "}\n",
    "\n",
    "Spiegelhalter_z(bin_data$default_flag_mean, bin_data$predicted_pd_mean)\n"
   ]
  },
  {
   "cell_type": "code",
   "execution_count": null,
   "id": "7db494c5-7e2b-442b-b9f3-6b178f158f37",
   "metadata": {},
   "outputs": [],
   "source": []
  },
  {
   "cell_type": "code",
   "execution_count": null,
   "id": "8093b8f9-0884-4568-ae01-665510a45c40",
   "metadata": {},
   "outputs": [],
   "source": []
  },
  {
   "cell_type": "code",
   "execution_count": 10,
   "id": "4a3826e2-074d-4090-8fa4-3f9f339fc2c1",
   "metadata": {},
   "outputs": [
    {
     "data": {
      "text/html": [
       "<pre class=language-r><code>function (predictedArr, truthArr) \n",
       "{\n",
       "<span style=white-space:pre-wrap>    if (length(predictedArr) != length(truthArr)) {</span>\n",
       "<span style=white-space:pre-wrap>        print(\"ERROR: length NOT equal!!\")</span>\n",
       "<span style=white-space:pre-wrap>    }</span>\n",
       "<span style=white-space:pre-wrap>    temp.vec &lt;- (truthArr - predictedArr)^2</span>\n",
       "<span style=white-space:pre-wrap>    sum(temp.vec)</span>\n",
       "}</code></pre>"
      ],
      "text/latex": [
       "\\begin{minted}{r}\n",
       "function (predictedArr, truthArr) \n",
       "\\{\n",
       "    if (length(predictedArr) != length(truthArr)) \\{\n",
       "        print(\"ERROR: length NOT equal!!\")\n",
       "    \\}\n",
       "    temp.vec <- (truthArr - predictedArr)\\textasciicircum{}2\n",
       "    sum(temp.vec)\n",
       "\\}\n",
       "\\end{minted}"
      ],
      "text/markdown": [
       "```r\n",
       "function (predictedArr, truthArr) \n",
       "{\n",
       "    if (length(predictedArr) != length(truthArr)) {\n",
       "        print(\"ERROR: length NOT equal!!\")\n",
       "    }\n",
       "    temp.vec <- (truthArr - predictedArr)^2\n",
       "    sum(temp.vec)\n",
       "}\n",
       "```"
      ],
      "text/plain": [
       "function (predictedArr, truthArr) \n",
       "{\n",
       "    if (length(predictedArr) != length(truthArr)) {\n",
       "        print(\"ERROR: length NOT equal!!\")\n",
       "    }\n",
       "    temp.vec <- (truthArr - predictedArr)^2\n",
       "    sum(temp.vec)\n",
       "}\n",
       "<bytecode: 0x0000000032c16b18>\n",
       "<environment: namespace:iterativeBMA>"
      ]
     },
     "metadata": {},
     "output_type": "display_data"
    }
   ],
   "source": [
    "brier.score"
   ]
  },
  {
   "cell_type": "code",
   "execution_count": 13,
   "id": "034e0b82-acc4-4eaa-844d-94f9959ed264",
   "metadata": {},
   "outputs": [
    {
     "data": {
      "text/html": [
       "<pre class=language-r><code>function (rating.label, pdc, no, nb, alpha = 0.05) \n",
       "{\n",
       "<span style=white-space:pre-wrap>    l &lt;- list(rating.label, pdc, no, nb)</span>\n",
       "<span style=white-space:pre-wrap>    l.check &lt;- !length(table(sapply(l, length))) == 1</span>\n",
       "<span style=white-space:pre-wrap>    if (l.check) {</span>\n",
       "<span style=white-space:pre-wrap>        stop(\"arguments rating.label, pdc, no and nb have to be of the same length.\")</span>\n",
       "<span style=white-space:pre-wrap>    }</span>\n",
       "<span style=white-space:pre-wrap>    if (any(!(is.numeric(pdc) | is.numeric(n) | is.numeric(nb)))) {</span>\n",
       "<span style=white-space:pre-wrap>        stop(\"All arguments have to of numeric type.\")</span>\n",
       "<span style=white-space:pre-wrap>    }</span>\n",
       "<span style=white-space:pre-wrap>    if (any(pdc &gt; 1 | pdc &lt; 0)) {</span>\n",
       "<span style=white-space:pre-wrap>        stop(\"pdc and odr have to be between 0 and 1.\")</span>\n",
       "<span style=white-space:pre-wrap>    }</span>\n",
       "<span style=white-space:pre-wrap>    if (any(nb &gt; no)) {</span>\n",
       "<span style=white-space:pre-wrap>        stop(\"Number of defaults cannot be greater than number of observations.\")</span>\n",
       "<span style=white-space:pre-wrap>    }</span>\n",
       "<span style=white-space:pre-wrap>    if (any(nb &lt; 0 | no &lt; 0)) {</span>\n",
       "<span style=white-space:pre-wrap>        stop(\"no and nb arguments cannot be negative.\")</span>\n",
       "<span style=white-space:pre-wrap>    }</span>\n",
       "<span style=white-space:pre-wrap>    if (alpha &gt; 1 | alpha &lt; 0) {</span>\n",
       "<span style=white-space:pre-wrap>        stop(\"significance level (alpha) has to be between 0 and 1.\")</span>\n",
       "<span style=white-space:pre-wrap>    }</span>\n",
       "<span style=white-space:pre-wrap>    bino.test &lt;- pbinom(nb - 1, no, pdc, lower.tail = FALSE)</span>\n",
       "<span style=white-space:pre-wrap>    bino.test.res &lt;- ifelse(bino.test &gt;= alpha, \"H0: ODR &lt;= PDC\", </span>\n",
       "<span style=white-space:pre-wrap>        \"H1: ODR &gt; PDC\")</span>\n",
       "<span style=white-space:pre-wrap>    jeff.test &lt;- pbeta(pdc, nb + 0.5, no - nb + 0.5)</span>\n",
       "<span style=white-space:pre-wrap>    jeff.test.res &lt;- ifelse(jeff.test &gt;= alpha, \"H0: ODR &lt;= PDC\", </span>\n",
       "<span style=white-space:pre-wrap>        \"H1: ODR &gt; PDC\")</span>\n",
       "<span style=white-space:pre-wrap>    odr &lt;- nb/no</span>\n",
       "<span style=white-space:pre-wrap>    zsco.test &lt;- zscore.test(pdc = pdc, odr = odr, no = no)</span>\n",
       "<span style=white-space:pre-wrap>    zsco.test.res &lt;- ifelse(zsco.test &gt;= alpha, \"H0: ODR &lt;= PDC\", </span>\n",
       "<span style=white-space:pre-wrap>        \"H1: ODR &gt; PDC\")</span>\n",
       "<span style=white-space:pre-wrap>    if (length(pdc) == 1) {</span>\n",
       "<span style=white-space:pre-wrap>        hosm.test &lt;- NA</span>\n",
       "<span style=white-space:pre-wrap>        hosm.test.res &lt;- \"Only one rating grade.\"</span>\n",
       "<span style=white-space:pre-wrap>    }</span>\n",
       "<span style=white-space:pre-wrap>    else {</span>\n",
       "<span style=white-space:pre-wrap>        hosm.test &lt;- hl.test(pdc = pdc, no = no, nb = nb)</span>\n",
       "<span style=white-space:pre-wrap>        hosm.test.res &lt;- ifelse(hosm.test &gt;= alpha, \"H0: ODR &lt;= PDC\", </span>\n",
       "<span style=white-space:pre-wrap>            \"H1: ODR &gt; PDC\")</span>\n",
       "<span style=white-space:pre-wrap>    }</span>\n",
       "<span style=white-space:pre-wrap>    res &lt;- data.frame(rating = rating.label, no = no, nb = nb, </span>\n",
       "<span style=white-space:pre-wrap>        odr = odr, pdc = pdc, alpha = alpha, binomial = bino.test, </span>\n",
       "<span style=white-space:pre-wrap>        binomial.res = bino.test.res, jeffreys = jeff.test, jeffreys.res = jeff.test.res, </span>\n",
       "<span style=white-space:pre-wrap>        zscore = zsco.test, zscore.res = zsco.test.res, hosmer.lemeshow = hosm.test, </span>\n",
       "<span style=white-space:pre-wrap>        hosmer.lemeshow.res = hosm.test.res)</span>\n",
       "<span style=white-space:pre-wrap>    return(res)</span>\n",
       "}</code></pre>"
      ],
      "text/latex": [
       "\\begin{minted}{r}\n",
       "function (rating.label, pdc, no, nb, alpha = 0.05) \n",
       "\\{\n",
       "    l <- list(rating.label, pdc, no, nb)\n",
       "    l.check <- !length(table(sapply(l, length))) == 1\n",
       "    if (l.check) \\{\n",
       "        stop(\"arguments rating.label, pdc, no and nb have to be of the same length.\")\n",
       "    \\}\n",
       "    if (any(!(is.numeric(pdc) \\textbar{} is.numeric(n) \\textbar{} is.numeric(nb)))) \\{\n",
       "        stop(\"All arguments have to of numeric type.\")\n",
       "    \\}\n",
       "    if (any(pdc > 1 \\textbar{} pdc < 0)) \\{\n",
       "        stop(\"pdc and odr have to be between 0 and 1.\")\n",
       "    \\}\n",
       "    if (any(nb > no)) \\{\n",
       "        stop(\"Number of defaults cannot be greater than number of observations.\")\n",
       "    \\}\n",
       "    if (any(nb < 0 \\textbar{} no < 0)) \\{\n",
       "        stop(\"no and nb arguments cannot be negative.\")\n",
       "    \\}\n",
       "    if (alpha > 1 \\textbar{} alpha < 0) \\{\n",
       "        stop(\"significance level (alpha) has to be between 0 and 1.\")\n",
       "    \\}\n",
       "    bino.test <- pbinom(nb - 1, no, pdc, lower.tail = FALSE)\n",
       "    bino.test.res <- ifelse(bino.test >= alpha, \"H0: ODR <= PDC\", \n",
       "        \"H1: ODR > PDC\")\n",
       "    jeff.test <- pbeta(pdc, nb + 0.5, no - nb + 0.5)\n",
       "    jeff.test.res <- ifelse(jeff.test >= alpha, \"H0: ODR <= PDC\", \n",
       "        \"H1: ODR > PDC\")\n",
       "    odr <- nb/no\n",
       "    zsco.test <- zscore.test(pdc = pdc, odr = odr, no = no)\n",
       "    zsco.test.res <- ifelse(zsco.test >= alpha, \"H0: ODR <= PDC\", \n",
       "        \"H1: ODR > PDC\")\n",
       "    if (length(pdc) == 1) \\{\n",
       "        hosm.test <- NA\n",
       "        hosm.test.res <- \"Only one rating grade.\"\n",
       "    \\}\n",
       "    else \\{\n",
       "        hosm.test <- hl.test(pdc = pdc, no = no, nb = nb)\n",
       "        hosm.test.res <- ifelse(hosm.test >= alpha, \"H0: ODR <= PDC\", \n",
       "            \"H1: ODR > PDC\")\n",
       "    \\}\n",
       "    res <- data.frame(rating = rating.label, no = no, nb = nb, \n",
       "        odr = odr, pdc = pdc, alpha = alpha, binomial = bino.test, \n",
       "        binomial.res = bino.test.res, jeffreys = jeff.test, jeffreys.res = jeff.test.res, \n",
       "        zscore = zsco.test, zscore.res = zsco.test.res, hosmer.lemeshow = hosm.test, \n",
       "        hosmer.lemeshow.res = hosm.test.res)\n",
       "    return(res)\n",
       "\\}\n",
       "\\end{minted}"
      ],
      "text/markdown": [
       "```r\n",
       "function (rating.label, pdc, no, nb, alpha = 0.05) \n",
       "{\n",
       "    l <- list(rating.label, pdc, no, nb)\n",
       "    l.check <- !length(table(sapply(l, length))) == 1\n",
       "    if (l.check) {\n",
       "        stop(\"arguments rating.label, pdc, no and nb have to be of the same length.\")\n",
       "    }\n",
       "    if (any(!(is.numeric(pdc) | is.numeric(n) | is.numeric(nb)))) {\n",
       "        stop(\"All arguments have to of numeric type.\")\n",
       "    }\n",
       "    if (any(pdc > 1 | pdc < 0)) {\n",
       "        stop(\"pdc and odr have to be between 0 and 1.\")\n",
       "    }\n",
       "    if (any(nb > no)) {\n",
       "        stop(\"Number of defaults cannot be greater than number of observations.\")\n",
       "    }\n",
       "    if (any(nb < 0 | no < 0)) {\n",
       "        stop(\"no and nb arguments cannot be negative.\")\n",
       "    }\n",
       "    if (alpha > 1 | alpha < 0) {\n",
       "        stop(\"significance level (alpha) has to be between 0 and 1.\")\n",
       "    }\n",
       "    bino.test <- pbinom(nb - 1, no, pdc, lower.tail = FALSE)\n",
       "    bino.test.res <- ifelse(bino.test >= alpha, \"H0: ODR <= PDC\", \n",
       "        \"H1: ODR > PDC\")\n",
       "    jeff.test <- pbeta(pdc, nb + 0.5, no - nb + 0.5)\n",
       "    jeff.test.res <- ifelse(jeff.test >= alpha, \"H0: ODR <= PDC\", \n",
       "        \"H1: ODR > PDC\")\n",
       "    odr <- nb/no\n",
       "    zsco.test <- zscore.test(pdc = pdc, odr = odr, no = no)\n",
       "    zsco.test.res <- ifelse(zsco.test >= alpha, \"H0: ODR <= PDC\", \n",
       "        \"H1: ODR > PDC\")\n",
       "    if (length(pdc) == 1) {\n",
       "        hosm.test <- NA\n",
       "        hosm.test.res <- \"Only one rating grade.\"\n",
       "    }\n",
       "    else {\n",
       "        hosm.test <- hl.test(pdc = pdc, no = no, nb = nb)\n",
       "        hosm.test.res <- ifelse(hosm.test >= alpha, \"H0: ODR <= PDC\", \n",
       "            \"H1: ODR > PDC\")\n",
       "    }\n",
       "    res <- data.frame(rating = rating.label, no = no, nb = nb, \n",
       "        odr = odr, pdc = pdc, alpha = alpha, binomial = bino.test, \n",
       "        binomial.res = bino.test.res, jeffreys = jeff.test, jeffreys.res = jeff.test.res, \n",
       "        zscore = zsco.test, zscore.res = zsco.test.res, hosmer.lemeshow = hosm.test, \n",
       "        hosmer.lemeshow.res = hosm.test.res)\n",
       "    return(res)\n",
       "}\n",
       "```"
      ],
      "text/plain": [
       "function (rating.label, pdc, no, nb, alpha = 0.05) \n",
       "{\n",
       "    l <- list(rating.label, pdc, no, nb)\n",
       "    l.check <- !length(table(sapply(l, length))) == 1\n",
       "    if (l.check) {\n",
       "        stop(\"arguments rating.label, pdc, no and nb have to be of the same length.\")\n",
       "    }\n",
       "    if (any(!(is.numeric(pdc) | is.numeric(n) | is.numeric(nb)))) {\n",
       "        stop(\"All arguments have to of numeric type.\")\n",
       "    }\n",
       "    if (any(pdc > 1 | pdc < 0)) {\n",
       "        stop(\"pdc and odr have to be between 0 and 1.\")\n",
       "    }\n",
       "    if (any(nb > no)) {\n",
       "        stop(\"Number of defaults cannot be greater than number of observations.\")\n",
       "    }\n",
       "    if (any(nb < 0 | no < 0)) {\n",
       "        stop(\"no and nb arguments cannot be negative.\")\n",
       "    }\n",
       "    if (alpha > 1 | alpha < 0) {\n",
       "        stop(\"significance level (alpha) has to be between 0 and 1.\")\n",
       "    }\n",
       "    bino.test <- pbinom(nb - 1, no, pdc, lower.tail = FALSE)\n",
       "    bino.test.res <- ifelse(bino.test >= alpha, \"H0: ODR <= PDC\", \n",
       "        \"H1: ODR > PDC\")\n",
       "    jeff.test <- pbeta(pdc, nb + 0.5, no - nb + 0.5)\n",
       "    jeff.test.res <- ifelse(jeff.test >= alpha, \"H0: ODR <= PDC\", \n",
       "        \"H1: ODR > PDC\")\n",
       "    odr <- nb/no\n",
       "    zsco.test <- zscore.test(pdc = pdc, odr = odr, no = no)\n",
       "    zsco.test.res <- ifelse(zsco.test >= alpha, \"H0: ODR <= PDC\", \n",
       "        \"H1: ODR > PDC\")\n",
       "    if (length(pdc) == 1) {\n",
       "        hosm.test <- NA\n",
       "        hosm.test.res <- \"Only one rating grade.\"\n",
       "    }\n",
       "    else {\n",
       "        hosm.test <- hl.test(pdc = pdc, no = no, nb = nb)\n",
       "        hosm.test.res <- ifelse(hosm.test >= alpha, \"H0: ODR <= PDC\", \n",
       "            \"H1: ODR > PDC\")\n",
       "    }\n",
       "    res <- data.frame(rating = rating.label, no = no, nb = nb, \n",
       "        odr = odr, pdc = pdc, alpha = alpha, binomial = bino.test, \n",
       "        binomial.res = bino.test.res, jeffreys = jeff.test, jeffreys.res = jeff.test.res, \n",
       "        zscore = zsco.test, zscore.res = zsco.test.res, hosmer.lemeshow = hosm.test, \n",
       "        hosmer.lemeshow.res = hosm.test.res)\n",
       "    return(res)\n",
       "}\n",
       "<bytecode: 0x000000002b057f58>\n",
       "<environment: namespace:PDtoolkit>"
      ]
     },
     "metadata": {},
     "output_type": "display_data"
    }
   ],
   "source": [
    "pp.testing"
   ]
  },
  {
   "cell_type": "code",
   "execution_count": null,
   "id": "d9c39e84-12d5-466b-be78-1eac7fff10b3",
   "metadata": {},
   "outputs": [],
   "source": [
    "hl.test <- function(pdc, no, nb) {\n",
    "\tk <- length(no)\n",
    "\thl <- sum((nb - no * pdc)^2 / (no * pdc * (1 - pdc)), na.rm = T)\n",
    "\tp.val <- pchisq(q = hl, df = k, lower.tail = FALSE)\n",
    "return(p.val)\n",
    "}"
   ]
  }
 ],
 "metadata": {
  "kernelspec": {
   "display_name": "R",
   "language": "R",
   "name": "ir"
  },
  "language_info": {
   "codemirror_mode": "r",
   "file_extension": ".r",
   "mimetype": "text/x-r-source",
   "name": "R",
   "pygments_lexer": "r",
   "version": "4.1.3"
  }
 },
 "nbformat": 4,
 "nbformat_minor": 5
}
